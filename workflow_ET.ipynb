{
 "cells": [
  {
   "cell_type": "markdown",
   "metadata": {},
   "source": [
    "# DEM Download, Co-Registration, and Differencing for Geodetic Glacier Mass Balance Analysis \n",
    "\n",
    "### This Python workflow will walk you through the steps to: \n",
    "\n",
    "1. Pull the SRTM DEM corresponding to your study area from EarthAccess -OR- load an existing reference DEM of your choosing \n",
    "2. Load the additional DEM(s) you wish to co-register and the glacier polygons of your choosing (RGI, GLIMS, DGA, etc.)  \n",
    "3. Perform DEM co-registration, following the workflow of Shean et al. (2023), an implementation of Nuth and Kääb (2011)\n",
    "4. Clip the co-registered DEMs to glacier area \n",
    "5. Difference the DEMs to compute volume loss within glacier area \n",
    "6. Calculate geodetic glacier mass balance \n",
    "7. Produce figures  \n",
    "\n",
    "This workflow has the following requirements: \n",
    "- a NASA EarthData login to download the SRTM elevation data. EarthData can be accessed at the following link: (https://urs.earthdata.nasa.gov/oauth/authorize?client_id=ZAQpxSrQNpk342OR77kisA&response_type=code&redirect_uri=https://appeears.earthdatacloud.nasa.gov/login&state=/)\n",
    "- additional DEMs of the study area (e.g. UAV or satellite-derived product)\n",
    "\n",
    "We use `earthaccess`, an open source package developed by Luis Lopez to download NASA data collections. It requires authentication using Earthdata Login credentials. See [https://github.com/nsidc/earthaccess](https://github.com/nsidc/earthaccess)."
   ]
  },
  {
   "cell_type": "markdown",
   "metadata": {},
   "source": [
    "MS note to self: \n",
    "to activate virtual environment locally (in terminal): \n",
    "\n",
    "cd ~/Glacier-DEM-coregistration-and-MB\n",
    "source .venv/bin/activate"
   ]
  },
  {
   "cell_type": "code",
   "execution_count": 1,
   "metadata": {},
   "outputs": [
    {
     "name": "stdout",
     "output_type": "stream",
     "text": [
      "Requirement already satisfied: pyproj in c:\\users\\etyrr\\anaconda3\\envs\\glac-analysis\\lib\\site-packages (3.6.1)\n",
      "Requirement already satisfied: certifi in c:\\users\\etyrr\\anaconda3\\envs\\glac-analysis\\lib\\site-packages (from pyproj) (2025.1.31)\n",
      "Note: you may need to restart the kernel to use updated packages.\n"
     ]
    }
   ],
   "source": [
    "# # Install dependencies \n",
    "# import sys\n",
    "# !{sys.executable} -m pip install earthaccess\n",
    "# !pip install geopandas\n",
    "%pip install pyproj"
   ]
  },
  {
   "cell_type": "markdown",
   "metadata": {},
   "source": [
    "## Step 1: Pull SRTM for study area as reference DEM "
   ]
  },
  {
   "cell_type": "code",
   "execution_count": 3,
   "metadata": {},
   "outputs": [
    {
     "name": "stdin",
     "output_type": "stream",
     "text": [
      "Enter your Earthdata Login username:  emmatyrrell\n",
      "Enter your Earthdata password:  ········\n"
     ]
    },
    {
     "data": {
      "application/vnd.jupyter.widget-view+json": {
       "model_id": "91d993b0230c4706a08235844fb235d4",
       "version_major": 2,
       "version_minor": 0
      },
      "text/plain": [
       "QUEUEING TASKS | :   0%|          | 0/1 [00:00<?, ?it/s]"
      ]
     },
     "metadata": {},
     "output_type": "display_data"
    },
    {
     "data": {
      "application/vnd.jupyter.widget-view+json": {
       "model_id": "f38ccac484e445b494e487b0164d9e8f",
       "version_major": 2,
       "version_minor": 0
      },
      "text/plain": [
       "PROCESSING TASKS | :   0%|          | 0/1 [00:00<?, ?it/s]"
      ]
     },
     "metadata": {},
     "output_type": "display_data"
    },
    {
     "data": {
      "application/vnd.jupyter.widget-view+json": {
       "model_id": "b1431dc3068f4189b54480477a429b59",
       "version_major": 2,
       "version_minor": 0
      },
      "text/plain": [
       "COLLECTING RESULTS | :   0%|          | 0/1 [00:00<?, ?it/s]"
      ]
     },
     "metadata": {},
     "output_type": "display_data"
    },
    {
     "name": "stdout",
     "output_type": "stream",
     "text": [
      "Downloaded 1 SRTM DEM files to: C:\\Users\\etyrr\\OneDrive\\Documents\\CU_Grad\\MillieWorkflow\\code\\srtm_data\n",
      "Study area bounding box: (-71.4, -36.8, -71.2, -36.6)\n"
     ]
    }
   ],
   "source": [
    "#Code to download SRTM DEM from EarthAccess\n",
    "\n",
    "# For searching and accessing NASA data\n",
    "import earthaccess\n",
    "import os\n",
    "\n",
    "# Enter your EarthAccess login and password \n",
    "earthaccess.login()\n",
    "\n",
    "# search for SRTM data\n",
    "query = earthaccess.search_datasets(\n",
    "            keyword=\"SRTM\",\n",
    ")\n",
    "\n",
    "bounding_box = (-71.4, -36.8, -71.2, -36.6) #update the bounding box for your study area \n",
    "#  bbox is defined as [min_lon, min_lat, max_lon, max_lat]\n",
    "\n",
    "results = earthaccess.search_data(\n",
    "    short_name = 'SRTMGL1', # SRTM 1-arcsecond Global dataset (confirm this is the right SRTM dataset...)\n",
    "    cloud_hosted = True, # Ensure access to cloud-stored data\n",
    "    bounding_box=bounding_box\n",
    ")\n",
    "\n",
    "# Define output directory\n",
    "output_dir = \"./srtm_data\"\n",
    "os.makedirs(output_dir, exist_ok=True)\n",
    "\n",
    "# Download the files\n",
    "for granule in results:\n",
    "    earthaccess.download(granule, output_dir)\n",
    "\n",
    "## add step / print statement to confirm download and confirm that the bounding box is the correct study area?? \n",
    "print(f\"Downloaded {len(results)} SRTM DEM files to: {os.path.abspath(output_dir)}\")\n",
    "\n",
    "# Print study area bounding box\n",
    "print(f\"Study area bounding box: {bounding_box}\")  \n"
   ]
  },
  {
   "cell_type": "markdown",
   "metadata": {},
   "source": [
    "## Step 2a: Load the glacier shapefiles and the additional DEMs you wish to work with \n",
    "\n",
    "Below is the code to unzip Chilean glacier inventory shapefiles (DGA,2000 or DGA,2019) OR use unzipped example shapefiles for Nevados de Chillán complex. If your study area is outside of Chile, you can download glacier polygons for your study area from GLIMS here: https://www.glims.org/maps/glims and manually upload below. "
   ]
  },
  {
   "cell_type": "code",
   "execution_count": 4,
   "metadata": {},
   "outputs": [
    {
     "name": "stdout",
     "output_type": "stream",
     "text": [
      "EPSG:32719\n"
     ]
    }
   ],
   "source": [
    "from pyproj import CRS\n",
    "crs = CRS(\"EPSG:32719\")\n",
    "print(crs)\n",
    "\n",
    "## not sure why i can't get this to run - any thoughts? "
   ]
  },
  {
   "cell_type": "code",
   "execution_count": 7,
   "metadata": {},
   "outputs": [
    {
     "name": "stdout",
     "output_type": "stream",
     "text": [
      "EPSG:32719\n",
      "   Id      COD_GLA NOMBRE             CLASIFICA   REGION            COMUNA  \\\n",
      "0  35  CL103032035    S/N            GLACIARETE  ATACAMA  DIEGO DE ALMAGRO   \n",
      "1   7  CL103031007    S/N  GLACIAR DE MONTAï¿½A  ATACAMA           COPIAPO   \n",
      "2  16  CL103031016    S/N            GLACIARETE  ATACAMA           COPIAPO   \n",
      "3  17  CL103030017    S/N            GLACIARETE  ATACAMA  DIEGO DE ALMAGRO   \n",
      "4   4  CL103012004    S/N  GLACIAR DE MONTAï¿½A  ATACAMA  DIEGO DE ALMAGRO   \n",
      "\n",
      "    DATUM   HUSO    ESTE    NORTE  ... ORIENABLAC ORIENTA CLAS_WGI  \\\n",
      "0  WGS 84  19SUR  542579  7066581  ...       None      SE        7   \n",
      "1  WGS 84  19SUR  551182  7005519  ...       None      SE        6   \n",
      "2  WGS 84  19SUR  544298  7001179  ...       None      NE        7   \n",
      "3  WGS 84  19SUR  565183  7033288  ...       None      SE        7   \n",
      "4  WGS 84  19SUR  541261  7071178  ...       None       E        6   \n",
      "\n",
      "             CLAS_2_CUB  ZONA_GLACI HMEDIANA PENDIENTE ERROR_KM2 ERROR_PORC  \\\n",
      "0            GLACIARETE  ZONA NORTE   5810.0   17.8447  0.031833    41.8853   \n",
      "1  GLACIAR DE MONTAï¿½A  ZONA NORTE   5891.0   21.7716  0.045723    13.7721   \n",
      "2            GLACIARETE  ZONA NORTE   6532.0   19.9210  0.038387    53.3160   \n",
      "3            GLACIARETE  ZONA NORTE   5587.0   17.3110  0.017709    34.7243   \n",
      "4  GLACIAR DE MONTAï¿½A  ZONA NORTE   5900.0   19.3509  0.021852    21.6359   \n",
      "\n",
      "                                            geometry  \n",
      "0  POLYGON ((542656.471 7066634.556, 542607.939 7...  \n",
      "1  POLYGON ((551188.863 7005904.558, 551188.863 7...  \n",
      "2  POLYGON ((544507.638 7001368.603, 544516.72 70...  \n",
      "3  POLYGON ((565137.108 7032986.063, 565102.99 70...  \n",
      "4  POLYGON ((541429.219 7071081.861, 541431.296 7...  \n",
      "\n",
      "[5 rows x 52 columns]\n",
      "   Id      COD_GLA NOMBRE             CLASIFICA   REGION            COMUNA  \\\n",
      "0  35  CL103032035    S/N            GLACIARETE  ATACAMA  DIEGO DE ALMAGRO   \n",
      "1   7  CL103031007    S/N  GLACIAR DE MONTAï¿½A  ATACAMA           COPIAPO   \n",
      "2  16  CL103031016    S/N            GLACIARETE  ATACAMA           COPIAPO   \n",
      "3  17  CL103030017    S/N            GLACIARETE  ATACAMA  DIEGO DE ALMAGRO   \n",
      "4   4  CL103012004    S/N  GLACIAR DE MONTAï¿½A  ATACAMA  DIEGO DE ALMAGRO   \n",
      "\n",
      "    DATUM   HUSO    ESTE    NORTE  ... ORIENABLAC ORIENTA CLAS_WGI  \\\n",
      "0  WGS 84  19SUR  542579  7066581  ...       None      SE        7   \n",
      "1  WGS 84  19SUR  551182  7005519  ...       None      SE        6   \n",
      "2  WGS 84  19SUR  544298  7001179  ...       None      NE        7   \n",
      "3  WGS 84  19SUR  565183  7033288  ...       None      SE        7   \n",
      "4  WGS 84  19SUR  541261  7071178  ...       None       E        6   \n",
      "\n",
      "             CLAS_2_CUB  ZONA_GLACI HMEDIANA PENDIENTE ERROR_KM2 ERROR_PORC  \\\n",
      "0            GLACIARETE  ZONA NORTE   5810.0   17.8447  0.031833    41.8853   \n",
      "1  GLACIAR DE MONTAï¿½A  ZONA NORTE   5891.0   21.7716  0.045723    13.7721   \n",
      "2            GLACIARETE  ZONA NORTE   6532.0   19.9210  0.038387    53.3160   \n",
      "3            GLACIARETE  ZONA NORTE   5587.0   17.3110  0.017709    34.7243   \n",
      "4  GLACIAR DE MONTAï¿½A  ZONA NORTE   5900.0   19.3509  0.021852    21.6359   \n",
      "\n",
      "                                            geometry  \n",
      "0  POLYGON ((542656.471 7066634.556, 542607.939 7...  \n",
      "1  POLYGON ((551188.863 7005904.558, 551188.863 7...  \n",
      "2  POLYGON ((544507.638 7001368.603, 544516.72 70...  \n",
      "3  POLYGON ((565137.108 7032986.063, 565102.99 70...  \n",
      "4  POLYGON ((541429.219 7071081.861, 541431.296 7...  \n",
      "\n",
      "[5 rows x 52 columns]\n"
     ]
    }
   ],
   "source": [
    "# comment out code that doesn't apply depending on which glacier polygon source you choose\n",
    "# note for Emma, I need to make a new shapefile with just the polygons over Nevados de Chillán, I can do this next week! Required for the first chunk of code below to run\n",
    "import geopandas as gpd\n",
    "from pyproj import CRS\n",
    "\n",
    "# Define a CRS using an EPSG code\n",
    "crs = CRS.from_epsg(32719)\n",
    "print(crs)\n",
    "\n",
    "# # if using example shapefiles (unzipped) for Nevados de Chillán \n",
    "glacier_area_2000_path = r\"C:\\Users\\etyrr\\OneDrive\\Documents\\CU_Grad\\MillieWorkflow\\data\\inventario_nacional_utm.shp\"\n",
    "glacier_area_2019_path = r\"C:\\Users\\etyrr\\OneDrive\\Documents\\CU_Grad\\MillieWorkflow\\data\\inventario_nacional_utm.shp\"\n",
    "\n",
    "# Load the shapefile\n",
    "glacier_2000_gdf = gpd.read_file(glacier_area_2000_path)\n",
    "glacier_2019_gdf = gpd.read_file(glacier_area_2019_path)\n",
    "\n",
    "# Display the first few rows\n",
    "print(glacier_2000_gdf.head(5))\n",
    "print(glacier_2019_gdf.head(5))\n",
    "\n",
    "\n",
    "# ## if using full zipped DGA year 2000 or 2019 glacier inventory, below is example to unzip year 2000 DGA inventory \n",
    "# import zipfile"
   ]
  },
  {
   "cell_type": "markdown",
   "metadata": {},
   "source": [
    "## Step 2b: Load the additional DEMs you wish to work with \n",
    "\n",
    "As an example, we provide an SRTM DEM, a DEM produced by 1954 Chilean military flights (IGM_1954), and two DEMs derived from uncrewed aerial vehicle (UAV) flights over Nevados de Chillán in March, 2024 (CerroBlanco and LasTermas). You can manually upload your DEMs to the same folder or route to a local file on your computer. Alternatively, you can modify the code in Step 1 to pull other DEM products from online platforms (e.g. IceSAT/-2, ArcticDEM, etc.). \n",
    "\n",
    "We also provide the GLIMS polygons in raster format ... "
   ]
  },
  {
   "cell_type": "code",
   "execution_count": 10,
   "metadata": {},
   "outputs": [
    {
     "name": "stdout",
     "output_type": "stream",
     "text": [
      "\n",
      "The following DEMs are being used for analysis\n",
      "Number of DEMs: 5\n",
      "Files: ['CerroBlanco_projected_raster.tif', 'GLIMS_nevados_to_tif.tif', 'IGM_projected_raster.tif', 'LasTermas_projected_raster.tif', 'SRTM_projected_raster.tif']\n"
     ]
    }
   ],
   "source": [
    "## code to call all DEMs at once \n",
    "import rasterio\n",
    "import os\n",
    "\n",
    "# Path to your data folder\n",
    "# DEM_folder = \"/Users/milliespencer/Glacier-DEM-coregistration-and-MB/example_data_Nevados/Nevados_DEMs\"\n",
    "DEM_folder = \"C:/Users/etyrr/OneDrive/Documents/CU_Grad/MillieWorkflow/data/input_Dems/\"\n",
    "extension = \".tif\"\n",
    "\n",
    "# List of DEM filenames\n",
    "##ET NOTE, THE CODE CAN CREATE A LIST BASED ON THE NAMES IN THE FILES\n",
    "# dem_files = [\n",
    "#     \"CerroBlanco_2024.tif\",\n",
    "#     \"LasTermas_2024.tif\",\n",
    "#     \"SRTM_2000.tif\",\n",
    "#     \"IGM_1954.tif\"\n",
    "# ]\n",
    "\n",
    "dem_files = [f for f in os.listdir(DEM_folder) if f.endswith(extension)]\n",
    "print(\"\\nThe following DEMs are being used for analysis\")\n",
    "print(f\"Number of DEMs: {len(dem_files)}\")\n",
    "print(f\"Files: {dem_files}\")\n",
    "\n",
    "# Dictionary to hold opened DEM datasets\n",
    "dem_datasets = {}\n",
    "\n"
   ]
  },
  {
   "cell_type": "code",
   "execution_count": 12,
   "metadata": {},
   "outputs": [
    {
     "name": "stdout",
     "output_type": "stream",
     "text": [
      "CerroBlanco_projected_raster: CRS = EPSG:20049, Resolution = (30.0, 30.0)\n",
      "GLIMS_nevados_to_tif: CRS = EPSG:20049, Resolution = (30.0, 30.0)\n",
      "IGM_projected_raster: CRS = EPSG:20049, Resolution = (30.0, 30.0)\n",
      "LasTermas_projected_raster: CRS = EPSG:20049, Resolution = (30.0, 30.0)\n",
      "SRTM_projected_raster: CRS = EPSG:20049, Resolution = (30.0, 30.0)\n",
      "CerroBlanco_projected_raster.tif\n"
     ]
    }
   ],
   "source": [
    "# Loop to open all DEMs\n",
    "for dem_file in dem_files:\n",
    "    file_path = os.path.join(DEM_folder, dem_file)\n",
    "    dem_name = os.path.splitext(dem_file)[0]  # Remove .tif extension\n",
    "    dem_datasets[dem_name] = rasterio.open(file_path)\n",
    "    # dem_datasets[dem_name] = rasterio.open(file_path).read(1) \n",
    "    # #If you plan to read them into arrays immediately, you can add .read(1) inside the loop^\n",
    "\n",
    "# Optional: print CRS of each DEM to confirm they’re loaded\n",
    "for name, dataset in dem_datasets.items():\n",
    "    print(f\"{name}: CRS = {dataset.crs}, Resolution = {dataset.res}\")\n",
    "\n",
    "# You can later access each DEM like this: \n",
    "# dem_datasets[\"SRTM_2000\"]\n",
    "print(dem_files[0])"
   ]
  },
  {
   "cell_type": "markdown",
   "metadata": {},
   "source": [
    "## Step 3: Perfom DEM co-registration \n",
    "Here we follow the workflow provided by Shean et al. (2023), derived from the Nuth and Kääb (2011) method, here: https://github.com/dshean/demcoreg/blob/master/docs/beginners_doc.md\n",
    "NB: users should confirm that the co-registration workflow has not been modified since the date of this code publication. "
   ]
  },
  {
   "cell_type": "markdown",
   "metadata": {},
   "source": [
    "### Co-registration setup: \n",
    "Loading the DEMs, reprojecting the DEMs to the same spatial reference system, extent, and cell size, and calculating slope and aspect to use in the co-registration process:"
   ]
  },
  {
   "cell_type": "code",
   "execution_count": null,
   "metadata": {},
   "outputs": [],
   "source": [
    "## issue... I did all this in the command line so idk how to translate into a python notebook... b"
   ]
  },
  {
   "cell_type": "raw",
   "metadata": {},
   "source": [
    "### Emma here will ne converting into the raster cell\n"
   ]
  },
  {
   "cell_type": "code",
   "execution_count": null,
   "metadata": {},
   "outputs": [],
   "source": [
    "# import modules\n",
    "import rasterio\n",
    "import geopandas as gpd\n",
    "import pandas as pd\n",
    "import os\n",
    "\n",
    "# call in polygon layer\n",
    "glaciers_OL = r\"C:\\Users\\etyrr\\OneDrive\\Documents\\CU_Grad\\MillieWorkflow\\data\\inventario_nacional_utm.shp\"\n",
    "gdf = gpd.read_file(glaciers_OL)\n",
    "\n",
    "raster_paths = "
   ]
  }
 ],
 "metadata": {
  "kernelspec": {
   "display_name": "Python 3 (ipykernel)",
   "language": "python",
   "name": "python3"
  },
  "language_info": {
   "codemirror_mode": {
    "name": "ipython",
    "version": 3
   },
   "file_extension": ".py",
   "mimetype": "text/x-python",
   "name": "python",
   "nbconvert_exporter": "python",
   "pygments_lexer": "ipython3",
   "version": "3.13.2"
  }
 },
 "nbformat": 4,
 "nbformat_minor": 4
}
