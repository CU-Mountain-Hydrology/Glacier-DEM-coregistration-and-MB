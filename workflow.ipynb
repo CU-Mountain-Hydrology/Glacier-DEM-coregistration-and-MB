{
 "cells": [
  {
   "cell_type": "markdown",
   "metadata": {},
   "source": [
    "# DEM Download, Co-Registration, and Differencing for Geodetic Glacier Mass Balance Analysis \n",
    "\n",
    "### This Python workflow will walk you through the steps to: \n",
    "\n",
    "1. Pull the SRTM DEM corresponding to your study area from EarthAccess -OR- load an existing reference DEM of your choosing \n",
    "2. Load the additional DEM(s) you wish to co-register and the glacier polygons of your choosing (RGI, GLIMS, DGA, etc.)  \n",
    "3. Perform DEM co-registration, following the workflow of Shean et al. (2023), an implementation of Nuth and Kääb (2011)\n",
    "4. Clip the co-registered DEMs to glacier area \n",
    "5. Difference the DEMs to compute volume loss within glacier area \n",
    "6. Calculate geodetic glacier mass balance \n",
    "7. Produce figures  \n",
    "\n",
    "This workflow has the following requirements: \n",
    "- a NASA EarthData login to download the SRTM elevation data. EarthData can be accessed at the following link: (https://urs.earthdata.nasa.gov/oauth/authorize?client_id=ZAQpxSrQNpk342OR77kisA&response_type=code&redirect_uri=https://appeears.earthdatacloud.nasa.gov/login&state=/)\n",
    "- additional DEMs of the study area (e.g. UAV or satellite-derived product)\n",
    "\n",
    "We use `earthaccess`, an open source package developed by Luis Lopez to download NASA data collections. It requires authentication using Earthdata Login credentials. See [https://github.com/nsidc/earthaccess](https://github.com/nsidc/earthaccess)."
   ]
  },
  {
   "cell_type": "markdown",
   "metadata": {},
   "source": [
    "MS note to self: \n",
    "to activate virtual environment locally (in terminal): \n",
    "\n",
    "cd ~/Glacier-DEM-coregistration-and-MB\n",
    "source .venv/bin/activate"
   ]
  },
  {
   "cell_type": "code",
   "execution_count": 1,
   "metadata": {},
   "outputs": [
    {
     "name": "stdout",
     "output_type": "stream",
     "text": [
      "Defaulting to user installation because normal site-packages is not writeable\n",
      "Requirement already satisfied: pyproj in /Users/milliespencer/Library/Python/3.10/lib/python/site-packages (3.7.1)\n",
      "Requirement already satisfied: certifi in /Users/milliespencer/Library/Python/3.10/lib/python/site-packages (from pyproj) (2025.1.31)\n",
      "\n",
      "\u001b[1m[\u001b[0m\u001b[34;49mnotice\u001b[0m\u001b[1;39;49m]\u001b[0m\u001b[39;49m A new release of pip is available: \u001b[0m\u001b[31;49m24.3.1\u001b[0m\u001b[39;49m -> \u001b[0m\u001b[32;49m25.0.1\u001b[0m\n",
      "\u001b[1m[\u001b[0m\u001b[34;49mnotice\u001b[0m\u001b[1;39;49m]\u001b[0m\u001b[39;49m To update, run: \u001b[0m\u001b[32;49mpip3 install --upgrade pip\u001b[0m\n",
      "Note: you may need to restart the kernel to use updated packages.\n"
     ]
    }
   ],
   "source": [
    "# # Install dependencies \n",
    "# import sys\n",
    "# !{sys.executable} -m pip install earthaccess\n",
    "# !pip install geopandas\n",
    "%pip install pyproj"
   ]
  },
  {
   "cell_type": "markdown",
   "metadata": {},
   "source": [
    "## Step 1: Pull SRTM for study area as reference DEM "
   ]
  },
  {
   "cell_type": "code",
   "execution_count": 5,
   "metadata": {},
   "outputs": [
    {
     "name": "stderr",
     "output_type": "stream",
     "text": [
      "QUEUEING TASKS | : 100%|██████████| 1/1 [00:00<00:00, 2839.75it/s]\n",
      "PROCESSING TASKS | : 100%|██████████| 1/1 [00:00<00:00, 14463.12it/s]\n",
      "COLLECTING RESULTS | : 100%|██████████| 1/1 [00:00<00:00, 39945.75it/s]"
     ]
    },
    {
     "name": "stdout",
     "output_type": "stream",
     "text": [
      "Downloaded 1 SRTM DEM files to: /Users/milliespencer/Glacier-DEM-coregistration-and-MB/srtm_data\n",
      "Study area bounding box: (-71.4, -36.8, -71.2, -36.6)\n"
     ]
    },
    {
     "name": "stderr",
     "output_type": "stream",
     "text": [
      "\n"
     ]
    }
   ],
   "source": [
    "#Code to download SRTM DEM from EarthAccess\n",
    "\n",
    "# For searching and accessing NASA data\n",
    "import earthaccess\n",
    "import os\n",
    "\n",
    "# Enter your EarthAccess login and password \n",
    "earthaccess.login()\n",
    "\n",
    "# search for SRTM data\n",
    "query = earthaccess.search_datasets(\n",
    "            keyword=\"SRTM\",\n",
    ")\n",
    "\n",
    "bounding_box = (-71.4, -36.8, -71.2, -36.6) #update the bounding box for your study area \n",
    "#  bbox is defined as [min_lon, min_lat, max_lon, max_lat]\n",
    "\n",
    "results = earthaccess.search_data(\n",
    "    short_name = 'SRTMGL1', # SRTM 1-arcsecond Global dataset (confirm this is the right SRTM dataset...)\n",
    "    cloud_hosted = True, # Ensure access to cloud-stored data\n",
    "    bounding_box=bounding_box\n",
    ")\n",
    "\n",
    "# Define output directory\n",
    "output_dir = \"./srtm_data\"\n",
    "os.makedirs(output_dir, exist_ok=True)\n",
    "\n",
    "# Download the files\n",
    "for granule in results:\n",
    "    earthaccess.download(granule, output_dir)\n",
    "\n",
    "## add step / print statement to confirm download and confirm that the bounding box is the correct study area?? \n",
    "print(f\"Downloaded {len(results)} SRTM DEM files to: {os.path.abspath(output_dir)}\")\n",
    "\n",
    "# Print study area bounding box\n",
    "print(f\"Study area bounding box: {bounding_box}\")  \n"
   ]
  },
  {
   "cell_type": "markdown",
   "metadata": {},
   "source": [
    "## Step 2a: Load the glacier shapefiles and the additional DEMs you wish to work with \n",
    "\n",
    "Below is the code to unzip Chilean glacier inventory shapefiles (DGA,2000 or DGA,2019) OR use unzipped example shapefiles for Nevados de Chillán complex. If your study area is outside of Chile, you can download glacier polygons for your study area from GLIMS here: https://www.glims.org/maps/glims and manually upload below. "
   ]
  },
  {
   "cell_type": "code",
   "execution_count": null,
   "metadata": {},
   "outputs": [
    {
     "ename": "CRSError",
     "evalue": "Invalid projection: EPSG:4326: (Internal Proj Error: proj_create: no database context specified)",
     "output_type": "error",
     "traceback": [
      "\u001b[0;31m---------------------------------------------------------------------------\u001b[0m",
      "\u001b[0;31mCRSError\u001b[0m                                  Traceback (most recent call last)",
      "Cell \u001b[0;32mIn[7], line 2\u001b[0m\n\u001b[1;32m      1\u001b[0m \u001b[38;5;28;01mfrom\u001b[39;00m \u001b[38;5;21;01mpyproj\u001b[39;00m \u001b[38;5;28;01mimport\u001b[39;00m CRS\n\u001b[0;32m----> 2\u001b[0m crs \u001b[38;5;241m=\u001b[39m \u001b[43mCRS\u001b[49m\u001b[43m(\u001b[49m\u001b[38;5;124;43m\"\u001b[39;49m\u001b[38;5;124;43mEPSG:4326\u001b[39;49m\u001b[38;5;124;43m\"\u001b[39;49m\u001b[43m)\u001b[49m\n\u001b[1;32m      3\u001b[0m \u001b[38;5;28mprint\u001b[39m(crs)\n",
      "File \u001b[0;32m~/Library/Python/3.10/lib/python/site-packages/pyproj/crs/crs.py:350\u001b[0m, in \u001b[0;36mCRS.__init__\u001b[0;34m(self, projparams, **kwargs)\u001b[0m\n\u001b[1;32m    348\u001b[0m     \u001b[38;5;28mself\u001b[39m\u001b[38;5;241m.\u001b[39m_local\u001b[38;5;241m.\u001b[39mcrs \u001b[38;5;241m=\u001b[39m projparams\n\u001b[1;32m    349\u001b[0m \u001b[38;5;28;01melse\u001b[39;00m:\n\u001b[0;32m--> 350\u001b[0m     \u001b[38;5;28mself\u001b[39m\u001b[38;5;241m.\u001b[39m_local\u001b[38;5;241m.\u001b[39mcrs \u001b[38;5;241m=\u001b[39m \u001b[43m_CRS\u001b[49m\u001b[43m(\u001b[49m\u001b[38;5;28;43mself\u001b[39;49m\u001b[38;5;241;43m.\u001b[39;49m\u001b[43msrs\u001b[49m\u001b[43m)\u001b[49m\n",
      "File \u001b[0;32m~/Library/Python/3.10/lib/python/site-packages/pyproj/_crs.pyx:2364\u001b[0m, in \u001b[0;36mpyproj._crs._CRS.__init__\u001b[0;34m()\u001b[0m\n",
      "\u001b[0;31mCRSError\u001b[0m: Invalid projection: EPSG:4326: (Internal Proj Error: proj_create: no database context specified)"
     ]
    }
   ],
   "source": [
    "from pyproj import CRS\n",
    "crs = CRS(\"EPSG:32719\")\n",
    "print(crs)\n",
    "\n",
    "## not sure why i can't get this to run - any thoughts? "
   ]
  },
  {
   "cell_type": "code",
   "execution_count": 4,
   "metadata": {},
   "outputs": [
    {
     "ename": "CRSError",
     "evalue": "Invalid projection: EPSG:32719: (Internal Proj Error: proj_create: no database context specified)",
     "output_type": "error",
     "traceback": [
      "\u001b[0;31m---------------------------------------------------------------------------\u001b[0m",
      "\u001b[0;31mCRSError\u001b[0m                                  Traceback (most recent call last)",
      "Cell \u001b[0;32mIn[4], line 7\u001b[0m\n\u001b[1;32m      4\u001b[0m \u001b[38;5;28;01mfrom\u001b[39;00m \u001b[38;5;21;01mpyproj\u001b[39;00m \u001b[38;5;28;01mimport\u001b[39;00m CRS\n\u001b[1;32m      6\u001b[0m \u001b[38;5;66;03m# Define a CRS using an EPSG code\u001b[39;00m\n\u001b[0;32m----> 7\u001b[0m crs \u001b[38;5;241m=\u001b[39m \u001b[43mCRS\u001b[49m\u001b[38;5;241;43m.\u001b[39;49m\u001b[43mfrom_epsg\u001b[49m\u001b[43m(\u001b[49m\u001b[38;5;241;43m32719\u001b[39;49m\u001b[43m)\u001b[49m\n\u001b[1;32m      8\u001b[0m \u001b[38;5;28mprint\u001b[39m(crs)\n\u001b[1;32m     10\u001b[0m \u001b[38;5;66;03m# # if using example shapefiles (unzipped) for Nevados de Chillán \u001b[39;00m\n",
      "File \u001b[0;32m~/Library/Python/3.10/lib/python/site-packages/pyproj/crs/crs.py:394\u001b[0m, in \u001b[0;36mCRS.from_epsg\u001b[0;34m(cls, code)\u001b[0m\n\u001b[1;32m    381\u001b[0m \u001b[38;5;129m@classmethod\u001b[39m\n\u001b[1;32m    382\u001b[0m \u001b[38;5;28;01mdef\u001b[39;00m \u001b[38;5;21mfrom_epsg\u001b[39m(\u001b[38;5;28mcls\u001b[39m, code: \u001b[38;5;28mstr\u001b[39m \u001b[38;5;241m|\u001b[39m \u001b[38;5;28mint\u001b[39m) \u001b[38;5;241m-\u001b[39m\u001b[38;5;241m>\u001b[39m \u001b[38;5;124m\"\u001b[39m\u001b[38;5;124mCRS\u001b[39m\u001b[38;5;124m\"\u001b[39m:\n\u001b[1;32m    383\u001b[0m \u001b[38;5;250m    \u001b[39m\u001b[38;5;124;03m\"\"\"Make a CRS from an EPSG code\u001b[39;00m\n\u001b[1;32m    384\u001b[0m \n\u001b[1;32m    385\u001b[0m \u001b[38;5;124;03m    Parameters\u001b[39;00m\n\u001b[0;32m   (...)\u001b[0m\n\u001b[1;32m    392\u001b[0m \u001b[38;5;124;03m    CRS\u001b[39;00m\n\u001b[1;32m    393\u001b[0m \u001b[38;5;124;03m    \"\"\"\u001b[39;00m\n\u001b[0;32m--> 394\u001b[0m     \u001b[38;5;28;01mreturn\u001b[39;00m \u001b[38;5;28;43mcls\u001b[39;49m\u001b[38;5;241;43m.\u001b[39;49m\u001b[43mfrom_user_input\u001b[49m\u001b[43m(\u001b[49m\u001b[43m_prepare_from_epsg\u001b[49m\u001b[43m(\u001b[49m\u001b[43mcode\u001b[49m\u001b[43m)\u001b[49m\u001b[43m)\u001b[49m\n",
      "File \u001b[0;32m~/Library/Python/3.10/lib/python/site-packages/pyproj/crs/crs.py:503\u001b[0m, in \u001b[0;36mCRS.from_user_input\u001b[0;34m(cls, value, **kwargs)\u001b[0m\n\u001b[1;32m    501\u001b[0m \u001b[38;5;28;01mif\u001b[39;00m \u001b[38;5;28misinstance\u001b[39m(value, \u001b[38;5;28mcls\u001b[39m):\n\u001b[1;32m    502\u001b[0m     \u001b[38;5;28;01mreturn\u001b[39;00m value\n\u001b[0;32m--> 503\u001b[0m \u001b[38;5;28;01mreturn\u001b[39;00m \u001b[38;5;28;43mcls\u001b[39;49m\u001b[43m(\u001b[49m\u001b[43mvalue\u001b[49m\u001b[43m,\u001b[49m\u001b[43m \u001b[49m\u001b[38;5;241;43m*\u001b[39;49m\u001b[38;5;241;43m*\u001b[39;49m\u001b[43mkwargs\u001b[49m\u001b[43m)\u001b[49m\n",
      "File \u001b[0;32m~/Library/Python/3.10/lib/python/site-packages/pyproj/crs/crs.py:350\u001b[0m, in \u001b[0;36mCRS.__init__\u001b[0;34m(self, projparams, **kwargs)\u001b[0m\n\u001b[1;32m    348\u001b[0m     \u001b[38;5;28mself\u001b[39m\u001b[38;5;241m.\u001b[39m_local\u001b[38;5;241m.\u001b[39mcrs \u001b[38;5;241m=\u001b[39m projparams\n\u001b[1;32m    349\u001b[0m \u001b[38;5;28;01melse\u001b[39;00m:\n\u001b[0;32m--> 350\u001b[0m     \u001b[38;5;28mself\u001b[39m\u001b[38;5;241m.\u001b[39m_local\u001b[38;5;241m.\u001b[39mcrs \u001b[38;5;241m=\u001b[39m \u001b[43m_CRS\u001b[49m\u001b[43m(\u001b[49m\u001b[38;5;28;43mself\u001b[39;49m\u001b[38;5;241;43m.\u001b[39;49m\u001b[43msrs\u001b[49m\u001b[43m)\u001b[49m\n",
      "File \u001b[0;32m~/Library/Python/3.10/lib/python/site-packages/pyproj/_crs.pyx:2364\u001b[0m, in \u001b[0;36mpyproj._crs._CRS.__init__\u001b[0;34m()\u001b[0m\n",
      "\u001b[0;31mCRSError\u001b[0m: Invalid projection: EPSG:32719: (Internal Proj Error: proj_create: no database context specified)"
     ]
    }
   ],
   "source": [
    "# comment out code that doesn't apply depending on which glacier polygon source you choose\n",
    "# note for Emma, I need to make a new shapefile with just the polygons over Nevados de Chillán, I can do this next week! Required for the first chunk of code below to run\n",
    "import geopandas as gpd\n",
    "from pyproj import CRS\n",
    "\n",
    "# Define a CRS using an EPSG code\n",
    "crs = CRS.from_epsg(32719)\n",
    "print(crs)\n",
    "\n",
    "# # if using example shapefiles (unzipped) for Nevados de Chillán \n",
    "glacier_area_2000_path = \"example_data_Nevados/Nevados_glacier_shapefiles/Nevados_shapefile_DGA2000/Nevados_polygons_DGA2000.shp\"\n",
    "glacier_area_2019_path = \"example_data_Nevados/Nevados_glacier_shapefiles/Nevados_shapefile_DGA2019/Nevados_polygons_DGA2019.shp\"\n",
    "\n",
    "# Load the shapefile\n",
    "glacier_2000_gdf = gpd.read_file(glacier_area_2000_path)\n",
    "glacier_2019_gdf = gpd.read_file(glacier_area_2019_path)\n",
    "\n",
    "# Display the first few rows\n",
    "print(glacier_2000_gdf.head())\n",
    "print(glacier_2019_gdf.head())\n",
    "\n",
    "\n",
    "# ## if using full zipped DGA year 2000 or 2019 glacier inventory, below is example to unzip year 2000 DGA inventory \n",
    "# import zipfile"
   ]
  },
  {
   "cell_type": "markdown",
   "metadata": {},
   "source": [
    "## Step 2b: Load the additional DEMs you wish to work with \n",
    "\n",
    "As an example, we provide an SRTM DEM, a DEM produced by 1954 Chilean military flights (IGM_1954), and two DEMs derived from uncrewed aerial vehicle (UAV) flights over Nevados de Chillán in March, 2024 (CerroBlanco and LasTermas). You can manually upload your DEMs to the same folder or route to a local file on your computer. Alternatively, you can modify the code in Step 1 to pull other DEM products from online platforms (e.g. IceSAT/-2, ArcticDEM, etc.). \n",
    "\n",
    "We also provide the GLIMS polygons in raster format ... "
   ]
  },
  {
   "cell_type": "code",
   "execution_count": null,
   "metadata": {},
   "outputs": [],
   "source": [
    "## code to call all DEMs at once \n",
    "import rasterio\n",
    "import os\n",
    "\n",
    "# Path to your data folder\n",
    "DEM_folder = \"/Users/milliespencer/Glacier-DEM-coregistration-and-MB/example_data_Nevados/Nevados_DEMs\"\n",
    "\n",
    "# List of DEM filenames\n",
    "dem_files = [\n",
    "    \"CerroBlanco_2024.tif\",\n",
    "    \"LasTermas_2024.tif\",\n",
    "    \"SRTM_2000.tif\",\n",
    "    \"IGM_1954.tif\"\n",
    "]\n",
    "\n",
    "# Dictionary to hold opened DEM datasets\n",
    "dem_datasets = {}\n",
    "\n",
    "# Loop to open all DEMs\n",
    "for dem_file in dem_files:\n",
    "    file_path = os.path.join(DEM_folder, dem_file)\n",
    "    dem_name = os.path.splitext(dem_file)[0]  # Remove .tif extension\n",
    "    dem_datasets[dem_name] = rasterio.open(file_path)\n",
    "    # dem_datasets[dem_name] = rasterio.open(file_path).read(1) \n",
    "    # #If you plan to read them into arrays immediately, you can add .read(1) inside the loop^\n",
    "\n",
    "\n",
    "# Optional: print CRS of each DEM to confirm they’re loaded\n",
    "for name, dataset in dem_datasets.items():\n",
    "    print(f\"{name}: CRS = {dataset.crs}, Resolution = {dataset.res}\")\n",
    "\n",
    "# You can later access each DEM like this: \n",
    "dem_datasets[\"SRTM_2000\"]"
   ]
  },
  {
   "cell_type": "markdown",
   "metadata": {},
   "source": [
    "## Step 3: Perfom DEM co-registration \n",
    "Here we follow the workflow provided by Shean et al. (2023), derived from the Nuth and Kääb (2011) method, here: https://github.com/dshean/demcoreg/blob/master/docs/beginners_doc.md\n",
    "NB: users should confirm that the co-registration workflow has not been modified since the date of this code publication. "
   ]
  },
  {
   "cell_type": "markdown",
   "metadata": {},
   "source": [
    "### Co-registration setup: \n",
    "Loading the DEMs, reprojecting the DEMs to the same spatial reference system, extent, and cell size, and calculating slope and aspect to use in the co-registration process:"
   ]
  },
  {
   "cell_type": "code",
   "execution_count": null,
   "metadata": {},
   "outputs": [],
   "source": [
    "## issue... I did all this in the command line so idk how to translate into a python notebook... "
   ]
  }
 ],
 "metadata": {
  "kernelspec": {
   "display_name": "Python 3",
   "language": "python",
   "name": "python3"
  },
  "language_info": {
   "codemirror_mode": {
    "name": "ipython",
    "version": 3
   },
   "file_extension": ".py",
   "mimetype": "text/x-python",
   "name": "python",
   "nbconvert_exporter": "python",
   "pygments_lexer": "ipython3",
   "version": "3.10.5"
  }
 },
 "nbformat": 4,
 "nbformat_minor": 2
}
