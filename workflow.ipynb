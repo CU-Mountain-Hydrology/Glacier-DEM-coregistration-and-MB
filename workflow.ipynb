{
 "cells": [
  {
   "cell_type": "markdown",
   "metadata": {},
   "source": [
    "# DEM Download, Co-Registration, and Differencing for Geodetic Glacier Mass Balance Analysis \n",
    "\n",
    "### This Python workflow will walk you through the steps to: \n",
    "\n",
    "1. Pull the SRTM DEM corresponding to your study area from EarthAccess -OR- load an existing reference DEM of your choosing \n",
    "2. Load the additional DEM(s) you wish to co-register \n",
    "3. Perform DEM co-registration, following the workflow of Nuth and Kääb (2011)\n",
    "4. Clip the co-registered DEMs to the glacier area of your choosing (RGI, GLIMS, DGA, etc.) \n",
    "5. Difference the DEMs to compute volume loss within glacier area \n",
    "6. Calculate geodetic glacier mass balance \n",
    "7. Produce figures  \n",
    "\n",
    "This workflow has the following requirements: \n",
    "- a NASA EarthData login to download the SRTM elevation data. EarthData can be accessed at the following link: (https://urs.earthdata.nasa.gov/oauth/authorize?client_id=ZAQpxSrQNpk342OR77kisA&response_type=code&redirect_uri=https://appeears.earthdatacloud.nasa.gov/login&state=/)\n",
    "- additional DEMs of the study area (e.g. UAV or satellite-derived product)\n",
    "\n",
    "We use `earthaccess`, an open source package developed by Luis Lopez to allow easy search of the NASA Common Metadata Repository (CMR) and download of NASA data collections. It can be used for programmatic search and access for both _DAAC-hosted_ and _cloud-hosted_ data. It manages authenticating using Earthdata Login credentials. `earthaccess` can be used to find and access both DAAC-hosted and cloud-hosted data in just **three** lines of code.  See [https://github.com/nsidc/earthaccess](https://github.com/nsidc/earthaccess)."
   ]
  },
  {
   "cell_type": "markdown",
   "metadata": {},
   "source": [
    "## Step 1: Pull SRTM for study area as reference DEM "
   ]
  },
  {
   "cell_type": "code",
   "execution_count": null,
   "metadata": {},
   "outputs": [],
   "source": [
    "#Download SRTM DEM from EarthAccess\n",
    "\n",
    "# For searching and accessing NASA data\n",
    "import earthaccess\n",
    "\n",
    "auth = earthaccess.login()\n",
    "# you will be prompted to enter your EarthAccess login and password \n",
    "\n",
    "# search for SRTM data\n",
    "query = earthaccess.search_datasets(\n",
    "            keyword=\"SRTM\",\n",
    ")\n",
    "\n",
    "results = earthaccess.search_data(\n",
    "    short_name = 'ATL06', #update for SRTM\n",
    "    version = '006', #update for SRTM\n",
    "    cloud_hosted = True,\n",
    "    bounding_box = (-134.7,58.9,-133.9,59.2), #update the bounding box for your study area \n",
    "        # box format is lon, lat, for bottom left then top right.\n",
    "    temporal = ('2000-01-01','2000-12-30'),\n",
    "    count = 100 #? \n",
    ")"
   ]
  }
 ],
 "metadata": {
  "kernelspec": {
   "display_name": "Python 3",
   "language": "python",
   "name": "python3"
  },
  "language_info": {
   "name": "python",
   "version": "3.10.5"
  }
 },
 "nbformat": 4,
 "nbformat_minor": 2
}
