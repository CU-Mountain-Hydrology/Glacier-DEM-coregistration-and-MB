{
 "cells": [
  {
   "cell_type": "markdown",
   "metadata": {},
   "source": [
    "# DEM Download, Co-Registration, and Differencing for Geodetic Glacier Mass Balance Analysis \n",
    "\n",
    "### This Python workflow will walk you through the steps to: \n",
    "\n",
    "1. Pull the SRTM DEM corresponding to your study area from EarthAccess -OR- load an existing reference DEM of your choosing \n",
    "2. Load the additional DEM(s) you wish to co-register and the glacier polygons of your choosing (RGI, GLIMS, DGA, etc.)  \n",
    "3. Perform DEM co-registration, following the workflow of Shean et al. (2023), an implementation of Nuth and Kääb (2011)\n",
    "4. Clip the co-registered DEMs to glacier area \n",
    "5. Difference the DEMs to compute volume loss within glacier area \n",
    "6. Calculate geodetic glacier mass balance \n",
    "7. Produce figures  \n",
    "\n",
    "This workflow has the following requirements: \n",
    "- a NASA EarthData login to download the SRTM elevation data. EarthData can be accessed at the following link: (https://urs.earthdata.nasa.gov/oauth/authorize?client_id=ZAQpxSrQNpk342OR77kisA&response_type=code&redirect_uri=https://appeears.earthdatacloud.nasa.gov/login&state=/)\n",
    "- additional DEMs of the study area (e.g. UAV or satellite-derived product)\n",
    "\n",
    "We use `earthaccess`, an open source package developed by Luis Lopez to download NASA data collections. It requires authentication using Earthdata Login credentials. See [https://github.com/nsidc/earthaccess](https://github.com/nsidc/earthaccess)."
   ]
  },
  {
   "cell_type": "markdown",
   "metadata": {},
   "source": [
    "## Step 1: Pull SRTM for study area as reference DEM "
   ]
  },
  {
   "cell_type": "code",
   "execution_count": null,
   "metadata": {},
   "outputs": [],
   "source": [
    "#Download SRTM DEM from EarthAccess\n",
    "\n",
    "# For searching and accessing NASA data\n",
    "import earthaccess\n",
    "import os\n",
    "\n",
    "auth = earthaccess.login()\n",
    "# you will be prompted to enter your EarthAccess login and password \n",
    "\n",
    "# search for SRTM data\n",
    "query = earthaccess.search_datasets(\n",
    "            keyword=\"SRTM\",\n",
    ")\n",
    "\n",
    "results = earthaccess.search_data(\n",
    "    short_name = 'SRTMGL1', # SRTM 1-arcsecond Global dataset (confirm this is the right SRTM dataset...)\n",
    "    cloud_hosted = True, # Ensure access to cloud-stored data\n",
    "    bounding_box = (-134.7,58.9,-133.9,59.2), #update the bounding box for your study area \n",
    "        # box format is lon, lat, for bottom left then top right\n",
    "        # example bounding box is for the Nevados de Chillán volcanic complex in Ñuble, Chile \n",
    ")\n",
    "\n",
    "# Define output directory\n",
    "output_dir = \"./srtm_data\"\n",
    "os.makedirs(output_dir, exist_ok=True)\n",
    "\n",
    "# Download the files\n",
    "for granule in results:\n",
    "    earthaccess.download(granule, output_dir=output_dir)\n",
    "\n",
    "print(f\"Downloaded {len(results)} SRTM DEM files to {output_dir}\")\n",
    "\n",
    "## add step / print statement to confirm download and confirm that the bounding box is the correct study area?? "
   ]
  },
  {
   "cell_type": "markdown",
   "metadata": {},
   "source": [
    "## Step 2a: Load the glacier shapefiles and the additional DEMs you wish to work with \n",
    "\n",
    "Below is the code to unzip Chilean glacier inventory shapefiles (DGA,2000 or DGA,2019) OR use unzipped example shapefiles for Nevados de Chillán complex. If your study area is outside of Chile, you can download glacier polygons for your study area from GLIMS here: https://www.glims.org/maps/glims and manually upload below. "
   ]
  },
  {
   "cell_type": "code",
   "execution_count": null,
   "metadata": {},
   "outputs": [],
   "source": [
    "# comment out code that doesn't apply depending on which glacier polygon source you choose\n",
    "# note for Emma, I need to make a new shapefile with just the polygons over Nevados de Chillán, I can do this next week! Required for the first chunk of code below to run\n",
    "import geopandas as gpd\n",
    "\n",
    "## if using example shapefiles (unzipped) for Nevados de Chillán \n",
    "glacier_area_2000_path = \"example_data_Nevados/DGA_2000/glacier_area_2000.shp\"\n",
    "glacier_area_2019_path = \"example_data_Nevados/DGA_2019/glacier_area_2019.shp\"\n",
    "\n",
    "# Load the shapefile\n",
    "glacier_2000_gdf = gpd.read_file(glacier_area_2000_path)\n",
    "glacier_2019_gdf = gpd.read_file(glacier_area_2019_path)\n",
    "\n",
    "# Display the first few rows\n",
    "print(glacier_2000_gdf.head())\n",
    "print(glacier_2019_gdf.head())\n",
    "\n",
    "\n",
    "# ## if using full zipped DGA year 2000 or 2019 glacier inventory, below is example to unzip year 2000 DGA inventory \n",
    "# import zipfile\n",
    "\n",
    "# zip_inventory_2000_path = \"/Users/milliespencer/Glacier-DEM-coregistration-and-MB/example_data_Nevados/DGA_2000/chilean_glaciers_DGA_2000.zip\"\n",
    "# extract_inventory_2000_dir = \"example_data_Nevados/unzip_DGA_2000_data/\"\n",
    "\n",
    "# if not os.path.exists(extract_inventory_2000_dir):\n",
    "#     with zipfile.ZipFile(zip_inventory_2000_path, 'r') as zip_ref:\n",
    "#         zip_ref.extractall(extract_inventory_2000_dir)"
   ]
  },
  {
   "cell_type": "markdown",
   "metadata": {},
   "source": [
    "## Step 2b: Load the additional DEMs you wish to work with \n",
    "\n",
    "As an example, we provide an SRTM DEM, a DEM produced by 1954 Chilean military flights (IGM_1954), and two DEMs derived from uncrewed aerial vehicle (UAV) flights over Nevados de Chillán in March, 2024 (CerroBlanco and LasTermas). You can manually upload your DEMs to the same folder or route to a local file on your computer. Alternatively, you can modify the code in Step 1 to pull other DEM products from online platforms (e.g. IceSAT/-2, ArcticDEM, etc.). \n",
    "\n",
    "We also provide the GLIMS polygons in raster format ... "
   ]
  },
  {
   "cell_type": "code",
   "execution_count": null,
   "metadata": {},
   "outputs": [],
   "source": [
    "# code to call individual DEMs \n",
    "import rasterio\n",
    "\n",
    "SRTM_file_path = \"/Users/milliespencer/Glacier-DEM-coregistration-and-MB/example_data_Nevados/Nevados_DEMs/SRTM_projected_raster.tif\"\n",
    "\n",
    "with rasterio.open(SRTM_file_path) as src:\n",
    "    dem_data = src.read(1)  # Read the first (and usually only) band"
   ]
  },
  {
   "cell_type": "code",
   "execution_count": null,
   "metadata": {},
   "outputs": [],
   "source": [
    "## code to call all DEMs at once \n",
    "# import rasterio\n",
    "# import os\n",
    "\n",
    "# Path to your data folder\n",
    "DEM_folder = \"/Users/milliespencer/Glacier-DEM-coregistration-and-MB/example_data_Nevados/Nevados_DEMs\"\n",
    "\n",
    "# List of DEM filenames\n",
    "dem_files = [\n",
    "    \"CerroBlanco_2024.tif\",\n",
    "    \"LasTermas_2024.tif\",\n",
    "    \"SRTM_2000.tif\",\n",
    "    \"IGM_1954.tif\"\n",
    "]\n",
    "\n",
    "# Dictionary to hold opened DEM datasets\n",
    "dem_datasets = {}\n",
    "\n",
    "# Loop to open all DEMs\n",
    "for dem_file in dem_files:\n",
    "    file_path = os.path.join(DEM_folder, dem_file)\n",
    "    dem_name = os.path.splitext(dem_file)[0]  # Remove .tif extension\n",
    "    dem_datasets[dem_name] = rasterio.open(file_path)\n",
    "    # dem_datasets[dem_name] = rasterio.open(file_path).read(1) \n",
    "    # #If you plan to read them into arrays immediately, you can add .read(1) inside the loop^\n",
    "\n",
    "\n",
    "# Optional: print CRS of each DEM to confirm they’re loaded\n",
    "for name, dataset in dem_datasets.items():\n",
    "    print(f\"{name}: CRS = {dataset.crs}, Resolution = {dataset.res}\")\n",
    "\n",
    "# You can later access each DEM like this: \n",
    "dem_datasets[\"SRTM_2000\"]"
   ]
  },
  {
   "cell_type": "markdown",
   "metadata": {},
   "source": [
    "## Step 3: Perfom DEM co-registration \n",
    "Here we follow the workflow provided by Shean et al. (2023), derived from the Nuth and Kääb (2011) method, here: https://github.com/dshean/demcoreg/blob/master/docs/beginners_doc.md\n",
    "NB: users should confirm that the co-registration workflow has not been modified since the date of this code publication. "
   ]
  },
  {
   "cell_type": "markdown",
   "metadata": {},
   "source": [
    "### Co-registration setup: \n",
    "Loading the DEMs, reprojecting the DEMs to the same spatial reference system, extent, and cell size, and calculating slope and aspect to use in the co-registration process:"
   ]
  },
  {
   "cell_type": "code",
   "execution_count": null,
   "metadata": {},
   "outputs": [],
   "source": [
    "## issue... I did all this in the command line so idk how to translate into a python notebook... "
   ]
  }
 ],
 "metadata": {
  "kernelspec": {
   "display_name": "Python 3",
   "language": "python",
   "name": "python3"
  },
  "language_info": {
   "name": "python",
   "version": "3.10.5"
  }
 },
 "nbformat": 4,
 "nbformat_minor": 2
}
