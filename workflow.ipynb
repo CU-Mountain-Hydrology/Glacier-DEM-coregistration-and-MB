{
 "cells": [
  {
   "cell_type": "markdown",
   "metadata": {},
   "source": [
    "# DEM Download, Co-Registration, and Differencing for Geodetic Glacier Mass Balance Analysis \n",
    "\n",
    "### This Python workflow will walk you through the steps to: \n",
    "\n",
    "1. Pull the SRTM DEM corresponding to your study area from EarthAccess -OR- load an existing reference DEM of your choosing \n",
    "2. Load the additional DEM(s) you wish to co-register and the glacier polygons of your choosing (RGI, GLIMS, DGA, etc.)  \n",
    "3. Perform DEM co-registration, following the workflow of Shean et al. (2023), an implementation of Nuth and Kääb (2011)\n",
    "4. Clip the co-registered DEMs to glacier area \n",
    "5. Difference the DEMs to compute volume loss within glacier area \n",
    "6. Calculate geodetic glacier mass balance \n",
    "7. Produce figures  \n",
    "\n",
    "This workflow has the following requirements: \n",
    "- a NASA EarthData login to download the SRTM elevation data. EarthData can be accessed at the following link: (https://urs.earthdata.nasa.gov/oauth/authorize?client_id=ZAQpxSrQNpk342OR77kisA&response_type=code&redirect_uri=https://appeears.earthdatacloud.nasa.gov/login&state=/)\n",
    "- additional DEMs of the study area (e.g. UAV or satellite-derived product)\n",
    "\n",
    "We use `earthaccess`, an open source package developed by Luis Lopez to download NASA data collections. It requires authentication using Earthdata Login credentials. See [https://github.com/nsidc/earthaccess](https://github.com/nsidc/earthaccess)."
   ]
  },
  {
   "cell_type": "markdown",
   "metadata": {},
   "source": [
    "MS note to self: \n",
    "to activate virtual environment locally (in terminal): \n",
    "\n",
    "cd ~/Glacier-DEM-coregistration-and-MB\n",
    "source .venv/bin/activate"
   ]
  },
  {
   "cell_type": "code",
   "execution_count": null,
   "metadata": {},
   "outputs": [
    {
     "name": "stdout",
     "output_type": "stream",
     "text": [
      "Defaulting to user installation because normal site-packages is not writeable\n",
      "Requirement already satisfied: earthaccess in /Users/milliespencer/Library/Python/3.10/lib/python/site-packages (0.14.0)\n",
      "Requirement already satisfied: fsspec>=2022.11 in /Users/milliespencer/Library/Python/3.10/lib/python/site-packages (from earthaccess) (2025.3.2)\n",
      "Requirement already satisfied: importlib-resources>=6.3.2 in /Users/milliespencer/Library/Python/3.10/lib/python/site-packages (from earthaccess) (6.5.2)\n",
      "Requirement already satisfied: multimethod>=1.8 in /Users/milliespencer/Library/Python/3.10/lib/python/site-packages (from earthaccess) (2.0)\n",
      "Requirement already satisfied: pqdm>=0.1 in /Users/milliespencer/Library/Python/3.10/lib/python/site-packages (from earthaccess) (0.2.0)\n",
      "Requirement already satisfied: python-cmr>=0.10.0 in /Users/milliespencer/Library/Python/3.10/lib/python/site-packages (from earthaccess) (0.13.0)\n",
      "Requirement already satisfied: requests>=2.26 in /Users/milliespencer/Library/Python/3.10/lib/python/site-packages (from earthaccess) (2.32.3)\n",
      "Requirement already satisfied: s3fs>=2022.11 in /Users/milliespencer/Library/Python/3.10/lib/python/site-packages (from earthaccess) (2025.3.2)\n",
      "Requirement already satisfied: tinynetrc>=1.3.1 in /Users/milliespencer/Library/Python/3.10/lib/python/site-packages (from earthaccess) (1.3.1)\n",
      "Requirement already satisfied: typing-extensions>=4.10.0 in /Users/milliespencer/Library/Python/3.10/lib/python/site-packages (from earthaccess) (4.13.1)\n",
      "Requirement already satisfied: bounded-pool-executor in /Users/milliespencer/Library/Python/3.10/lib/python/site-packages (from pqdm>=0.1->earthaccess) (0.0.3)\n",
      "Requirement already satisfied: tqdm in /Users/milliespencer/Library/Python/3.10/lib/python/site-packages (from pqdm>=0.1->earthaccess) (4.67.1)\n",
      "Requirement already satisfied: python-dateutil<3.0.0,>=2.8.2 in /Users/milliespencer/Library/Python/3.10/lib/python/site-packages (from python-cmr>=0.10.0->earthaccess) (2.8.2)\n",
      "Requirement already satisfied: charset-normalizer<4,>=2 in /Users/milliespencer/Library/Python/3.10/lib/python/site-packages (from requests>=2.26->earthaccess) (3.4.1)\n",
      "Requirement already satisfied: idna<4,>=2.5 in /Users/milliespencer/Library/Python/3.10/lib/python/site-packages (from requests>=2.26->earthaccess) (3.10)\n",
      "Requirement already satisfied: urllib3<3,>=1.21.1 in /Users/milliespencer/Library/Python/3.10/lib/python/site-packages (from requests>=2.26->earthaccess) (2.3.0)\n",
      "Requirement already satisfied: certifi>=2017.4.17 in /Users/milliespencer/Library/Python/3.10/lib/python/site-packages (from requests>=2.26->earthaccess) (2025.1.31)\n",
      "Requirement already satisfied: aiobotocore<3.0.0,>=2.5.4 in /Users/milliespencer/Library/Python/3.10/lib/python/site-packages (from s3fs>=2022.11->earthaccess) (2.21.1)\n",
      "Requirement already satisfied: aiohttp!=4.0.0a0,!=4.0.0a1 in /Users/milliespencer/Library/Python/3.10/lib/python/site-packages (from s3fs>=2022.11->earthaccess) (3.11.16)\n",
      "Requirement already satisfied: aioitertools<1.0.0,>=0.5.1 in /Users/milliespencer/Library/Python/3.10/lib/python/site-packages (from aiobotocore<3.0.0,>=2.5.4->s3fs>=2022.11->earthaccess) (0.12.0)\n",
      "Requirement already satisfied: botocore<1.37.2,>=1.37.0 in /Users/milliespencer/Library/Python/3.10/lib/python/site-packages (from aiobotocore<3.0.0,>=2.5.4->s3fs>=2022.11->earthaccess) (1.37.1)\n",
      "Requirement already satisfied: jmespath<2.0.0,>=0.7.1 in /Users/milliespencer/Library/Python/3.10/lib/python/site-packages (from aiobotocore<3.0.0,>=2.5.4->s3fs>=2022.11->earthaccess) (1.0.1)\n",
      "Requirement already satisfied: multidict<7.0.0,>=6.0.0 in /Users/milliespencer/Library/Python/3.10/lib/python/site-packages (from aiobotocore<3.0.0,>=2.5.4->s3fs>=2022.11->earthaccess) (6.3.2)\n",
      "Requirement already satisfied: wrapt<2.0.0,>=1.10.10 in /Users/milliespencer/Library/Python/3.10/lib/python/site-packages (from aiobotocore<3.0.0,>=2.5.4->s3fs>=2022.11->earthaccess) (1.17.2)\n",
      "Requirement already satisfied: aiohappyeyeballs>=2.3.0 in /Users/milliespencer/Library/Python/3.10/lib/python/site-packages (from aiohttp!=4.0.0a0,!=4.0.0a1->s3fs>=2022.11->earthaccess) (2.6.1)\n",
      "Requirement already satisfied: aiosignal>=1.1.2 in /Users/milliespencer/Library/Python/3.10/lib/python/site-packages (from aiohttp!=4.0.0a0,!=4.0.0a1->s3fs>=2022.11->earthaccess) (1.3.2)\n",
      "Requirement already satisfied: async-timeout<6.0,>=4.0 in /Users/milliespencer/Library/Python/3.10/lib/python/site-packages (from aiohttp!=4.0.0a0,!=4.0.0a1->s3fs>=2022.11->earthaccess) (5.0.1)\n",
      "Requirement already satisfied: attrs>=17.3.0 in /Users/milliespencer/Library/Python/3.10/lib/python/site-packages (from aiohttp!=4.0.0a0,!=4.0.0a1->s3fs>=2022.11->earthaccess) (25.3.0)\n",
      "Requirement already satisfied: frozenlist>=1.1.1 in /Users/milliespencer/Library/Python/3.10/lib/python/site-packages (from aiohttp!=4.0.0a0,!=4.0.0a1->s3fs>=2022.11->earthaccess) (1.5.0)\n",
      "Requirement already satisfied: propcache>=0.2.0 in /Users/milliespencer/Library/Python/3.10/lib/python/site-packages (from aiohttp!=4.0.0a0,!=4.0.0a1->s3fs>=2022.11->earthaccess) (0.3.1)\n",
      "Requirement already satisfied: yarl<2.0,>=1.17.0 in /Users/milliespencer/Library/Python/3.10/lib/python/site-packages (from aiohttp!=4.0.0a0,!=4.0.0a1->s3fs>=2022.11->earthaccess) (1.19.0)\n",
      "Requirement already satisfied: six>=1.5 in /Users/milliespencer/Library/Python/3.10/lib/python/site-packages (from python-dateutil<3.0.0,>=2.8.2->python-cmr>=0.10.0->earthaccess) (1.16.0)\n",
      "\n",
      "\u001b[1m[\u001b[0m\u001b[34;49mnotice\u001b[0m\u001b[1;39;49m]\u001b[0m\u001b[39;49m A new release of pip is available: \u001b[0m\u001b[31;49m24.3.1\u001b[0m\u001b[39;49m -> \u001b[0m\u001b[32;49m25.0.1\u001b[0m\n",
      "\u001b[1m[\u001b[0m\u001b[34;49mnotice\u001b[0m\u001b[1;39;49m]\u001b[0m\u001b[39;49m To update, run: \u001b[0m\u001b[32;49mpip3 install --upgrade pip\u001b[0m\n"
     ]
    }
   ],
   "source": [
    "# # Install dependencies \n",
    "# import sys\n",
    "# !{sys.executable} -m pip install earthaccess"
   ]
  },
  {
   "cell_type": "markdown",
   "metadata": {},
   "source": [
    "## Step 1: Pull SRTM for study area as reference DEM "
   ]
  },
  {
   "cell_type": "code",
   "execution_count": 16,
   "metadata": {},
   "outputs": [
    {
     "name": "stderr",
     "output_type": "stream",
     "text": [
      "QUEUEING TASKS | : 100%|██████████| 1/1 [00:00<00:00, 2193.67it/s]\n",
      "PROCESSING TASKS | : 100%|██████████| 1/1 [00:05<00:00,  5.98s/it]\n",
      "COLLECTING RESULTS | : 100%|██████████| 1/1 [00:00<00:00, 15887.52it/s]"
     ]
    },
    {
     "name": "stdout",
     "output_type": "stream",
     "text": [
      "Downloaded 1 SRTM DEM files to: /Users/milliespencer/Glacier-DEM-coregistration-and-MB/srtm_data\n",
      "Study area bounding box: (-71.4, -36.8, -71.2, -36.6)\n"
     ]
    },
    {
     "name": "stderr",
     "output_type": "stream",
     "text": [
      "\n"
     ]
    }
   ],
   "source": [
    "#Code to download SRTM DEM from EarthAccess\n",
    "\n",
    "# For searching and accessing NASA data\n",
    "import earthaccess\n",
    "import os\n",
    "\n",
    "# Enter your EarthAccess login and password \n",
    "earthaccess.login(strategy=\"netrc\", persist=True) # This will prompt you for your NASA Earthdata credentials and save them to ~/.netrc\n",
    "\n",
    "# search for SRTM data\n",
    "query = earthaccess.search_datasets(\n",
    "            keyword=\"SRTM\",\n",
    ")\n",
    "\n",
    "bounding_box = (-71.4, -36.8, -71.2, -36.6) #update the bounding box for your study area \n",
    "#  bbox is defined as [min_lon, min_lat, max_lon, max_lat]\n",
    "\n",
    "results = earthaccess.search_data(\n",
    "    short_name = 'SRTMGL1', # SRTM 1-arcsecond Global dataset (confirm this is the right SRTM dataset...)\n",
    "    cloud_hosted = True, # Ensure access to cloud-stored data\n",
    "    bounding_box=bounding_box\n",
    ")\n",
    "\n",
    "# Define output directory\n",
    "output_dir = \"./srtm_data\"\n",
    "os.makedirs(output_dir, exist_ok=True)\n",
    "\n",
    "# Download the files\n",
    "for granule in results:\n",
    "    earthaccess.download(granule, output_dir)\n",
    "\n",
    "## add step / print statement to confirm download and confirm that the bounding box is the correct study area?? \n",
    "print(f\"Downloaded {len(results)} SRTM DEM files to: {os.path.abspath(output_dir)}\")\n",
    "\n",
    "# Print study area bounding box\n",
    "print(f\"Study area bounding box: {bounding_box}\")  \n"
   ]
  },
  {
   "cell_type": "markdown",
   "metadata": {},
   "source": [
    "## Step 2a: Load the glacier shapefiles and the additional DEMs you wish to work with \n",
    "\n",
    "Below is the code to unzip Chilean glacier inventory shapefiles (DGA,2000 or DGA,2019) OR use unzipped example shapefiles for Nevados de Chillán complex. If your study area is outside of Chile, you can download glacier polygons for your study area from GLIMS here: https://www.glims.org/maps/glims and manually upload below. "
   ]
  },
  {
   "cell_type": "code",
   "execution_count": null,
   "metadata": {},
   "outputs": [],
   "source": [
    "# comment out code that doesn't apply depending on which glacier polygon source you choose\n",
    "# note for Emma, I need to make a new shapefile with just the polygons over Nevados de Chillán, I can do this next week! Required for the first chunk of code below to run\n",
    "import geopandas as gpd\n",
    "\n",
    "## if using example shapefiles (unzipped) for Nevados de Chillán \n",
    "glacier_area_2000_path = \"example_data_Nevados/DGA_2000/glacier_area_2000.shp\"\n",
    "glacier_area_2019_path = \"example_data_Nevados/DGA_2019/glacier_area_2019.shp\"\n",
    "\n",
    "# Load the shapefile\n",
    "glacier_2000_gdf = gpd.read_file(glacier_area_2000_path)\n",
    "glacier_2019_gdf = gpd.read_file(glacier_area_2019_path)\n",
    "\n",
    "# Display the first few rows\n",
    "print(glacier_2000_gdf.head())\n",
    "print(glacier_2019_gdf.head())\n",
    "\n",
    "\n",
    "# ## if using full zipped DGA year 2000 or 2019 glacier inventory, below is example to unzip year 2000 DGA inventory \n",
    "# import zipfile\n",
    "\n",
    "# zip_inventory_2000_path = \"/Users/milliespencer/Glacier-DEM-coregistration-and-MB/example_data_Nevados/DGA_2000/chilean_glaciers_DGA_2000.zip\"\n",
    "# extract_inventory_2000_dir = \"example_data_Nevados/unzip_DGA_2000_data/\"\n",
    "\n",
    "# if not os.path.exists(extract_inventory_2000_dir):\n",
    "#     with zipfile.ZipFile(zip_inventory_2000_path, 'r') as zip_ref:\n",
    "#         zip_ref.extractall(extract_inventory_2000_dir)"
   ]
  },
  {
   "cell_type": "markdown",
   "metadata": {},
   "source": [
    "## Step 2b: Load the additional DEMs you wish to work with \n",
    "\n",
    "As an example, we provide an SRTM DEM, a DEM produced by 1954 Chilean military flights (IGM_1954), and two DEMs derived from uncrewed aerial vehicle (UAV) flights over Nevados de Chillán in March, 2024 (CerroBlanco and LasTermas). You can manually upload your DEMs to the same folder or route to a local file on your computer. Alternatively, you can modify the code in Step 1 to pull other DEM products from online platforms (e.g. IceSAT/-2, ArcticDEM, etc.). \n",
    "\n",
    "We also provide the GLIMS polygons in raster format ... "
   ]
  },
  {
   "cell_type": "code",
   "execution_count": null,
   "metadata": {},
   "outputs": [],
   "source": [
    "# code to call individual DEMs \n",
    "import rasterio\n",
    "\n",
    "SRTM_file_path = \"/Users/milliespencer/Glacier-DEM-coregistration-and-MB/example_data_Nevados/Nevados_DEMs/SRTM_projected_raster.tif\"\n",
    "\n",
    "with rasterio.open(SRTM_file_path) as src:\n",
    "    dem_data = src.read(1)  # Read the first (and usually only) band"
   ]
  },
  {
   "cell_type": "code",
   "execution_count": null,
   "metadata": {},
   "outputs": [],
   "source": [
    "## code to call all DEMs at once \n",
    "# import rasterio\n",
    "# import os\n",
    "\n",
    "# Path to your data folder\n",
    "DEM_folder = \"/Users/milliespencer/Glacier-DEM-coregistration-and-MB/example_data_Nevados/Nevados_DEMs\"\n",
    "\n",
    "# List of DEM filenames\n",
    "dem_files = [\n",
    "    \"CerroBlanco_2024.tif\",\n",
    "    \"LasTermas_2024.tif\",\n",
    "    \"SRTM_2000.tif\",\n",
    "    \"IGM_1954.tif\"\n",
    "]\n",
    "\n",
    "# Dictionary to hold opened DEM datasets\n",
    "dem_datasets = {}\n",
    "\n",
    "# Loop to open all DEMs\n",
    "for dem_file in dem_files:\n",
    "    file_path = os.path.join(DEM_folder, dem_file)\n",
    "    dem_name = os.path.splitext(dem_file)[0]  # Remove .tif extension\n",
    "    dem_datasets[dem_name] = rasterio.open(file_path)\n",
    "    # dem_datasets[dem_name] = rasterio.open(file_path).read(1) \n",
    "    # #If you plan to read them into arrays immediately, you can add .read(1) inside the loop^\n",
    "\n",
    "\n",
    "# Optional: print CRS of each DEM to confirm they’re loaded\n",
    "for name, dataset in dem_datasets.items():\n",
    "    print(f\"{name}: CRS = {dataset.crs}, Resolution = {dataset.res}\")\n",
    "\n",
    "# You can later access each DEM like this: \n",
    "dem_datasets[\"SRTM_2000\"]"
   ]
  },
  {
   "cell_type": "markdown",
   "metadata": {},
   "source": [
    "## Step 3: Perfom DEM co-registration \n",
    "Here we follow the workflow provided by Shean et al. (2023), derived from the Nuth and Kääb (2011) method, here: https://github.com/dshean/demcoreg/blob/master/docs/beginners_doc.md\n",
    "NB: users should confirm that the co-registration workflow has not been modified since the date of this code publication. "
   ]
  },
  {
   "cell_type": "markdown",
   "metadata": {},
   "source": [
    "### Co-registration setup: \n",
    "Loading the DEMs, reprojecting the DEMs to the same spatial reference system, extent, and cell size, and calculating slope and aspect to use in the co-registration process:"
   ]
  },
  {
   "cell_type": "code",
   "execution_count": null,
   "metadata": {},
   "outputs": [],
   "source": [
    "## issue... I did all this in the command line so idk how to translate into a python notebook... "
   ]
  }
 ],
 "metadata": {
  "kernelspec": {
   "display_name": "Python 3",
   "language": "python",
   "name": "python3"
  },
  "language_info": {
   "codemirror_mode": {
    "name": "ipython",
    "version": 3
   },
   "file_extension": ".py",
   "mimetype": "text/x-python",
   "name": "python",
   "nbconvert_exporter": "python",
   "pygments_lexer": "ipython3",
   "version": "3.10.5"
  }
 },
 "nbformat": 4,
 "nbformat_minor": 2
}
